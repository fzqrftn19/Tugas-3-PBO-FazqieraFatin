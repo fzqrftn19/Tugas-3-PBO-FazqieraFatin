{
  "nbformat": 4,
  "nbformat_minor": 0,
  "metadata": {
    "colab": {
      "provenance": [],
      "authorship_tag": "ABX9TyMatWg3GOKZPDhDFyqtuWEW",
      "include_colab_link": true
    },
    "kernelspec": {
      "name": "python3",
      "display_name": "Python 3"
    },
    "language_info": {
      "name": "python"
    }
  },
  "cells": [
    {
      "cell_type": "markdown",
      "metadata": {
        "id": "view-in-github",
        "colab_type": "text"
      },
      "source": [
        "<a href=\"https://colab.research.google.com/github/fzqrftn19/Tugas-3-PBO-FazqieraFatin/blob/main/pewarisan2.ipynb\" target=\"_parent\"><img src=\"https://colab.research.google.com/assets/colab-badge.svg\" alt=\"Open In Colab\"/></a>"
      ]
    },
    {
      "cell_type": "code",
      "execution_count": 1,
      "metadata": {
        "colab": {
          "base_uri": "https://localhost:8080/"
        },
        "id": "fiIJKF6p9GNG",
        "outputId": "7fc9942f-0e62-4c97-f6fd-5f8c5e040258"
      },
      "outputs": [
        {
          "output_type": "stream",
          "name": "stdout",
          "text": [
            "Ini adalah mobil Toyota Avanza\n",
            "Ini adalah motor Honda CBR 150R\n",
            "Ini adalah kendaraan merk Suzuki\n"
          ]
        }
      ],
      "source": [
        "# Pewarisan: Kendaraan → Mobil dan Motor\n",
        "\n",
        "class Kendaraan:\n",
        "    def __init__(self, merk):\n",
        "        self.merk = merk\n",
        "\n",
        "    def info(self):\n",
        "        print(\"Ini adalah kendaraan merk\", self.merk)\n",
        "\n",
        "class Mobil(Kendaraan):\n",
        "    def __init__(self, merk, model):\n",
        "        super().__init__(merk)\n",
        "        self.model = model\n",
        "\n",
        "    def info(self):\n",
        "        print(\"Ini adalah mobil\", self.merk, self.model)\n",
        "\n",
        "class Motor(Kendaraan):\n",
        "    def __init__(self, merk, tipe):\n",
        "        super().__init__(merk)\n",
        "        self.tipe = tipe\n",
        "\n",
        "    def info(self):\n",
        "        print(\"Ini adalah motor\", self.merk, self.tipe)\n",
        "\n",
        "# Objek\n",
        "mobil1 = Mobil(\"Toyota\", \"Avanza\")\n",
        "motor1 = Motor(\"Honda\", \"CBR 150R\")\n",
        "\n",
        "mobil1.info()\n",
        "motor1.info()\n",
        "\n",
        "# Tambahan eksperimen\n",
        "kendaraan_umum = Kendaraan(\"Suzuki\")\n",
        "kendaraan_umum.info()"
      ]
    }
  ]
}