{
  "nbformat": 4,
  "nbformat_minor": 0,
  "metadata": {
    "colab": {
      "provenance": [],
      "authorship_tag": "ABX9TyOLbDGav2EF7ac2DpRri2UC",
      "include_colab_link": true
    },
    "kernelspec": {
      "name": "python3",
      "display_name": "Python 3"
    },
    "language_info": {
      "name": "python"
    }
  },
  "cells": [
    {
      "cell_type": "markdown",
      "metadata": {
        "id": "view-in-github",
        "colab_type": "text"
      },
      "source": [
        "<a href=\"https://colab.research.google.com/github/fzqrftn19/Tugas-3-PBO-FazqieraFatin/blob/main/polymorphism1.ipynb\" target=\"_parent\"><img src=\"https://colab.research.google.com/assets/colab-badge.svg\" alt=\"Open In Colab\"/></a>"
      ]
    },
    {
      "cell_type": "code",
      "execution_count": null,
      "metadata": {
        "colab": {
          "base_uri": "https://localhost:8080/"
        },
        "id": "5YjvKh_e8jcZ",
        "outputId": "9653b32e-94e0-4204-8902-4ad8768d76af"
      },
      "outputs": [
        {
          "output_type": "stream",
          "name": "stdout",
          "text": [
            "Meow\n",
            "Guk Guk\n",
            "Cuit cuit\n"
          ]
        }
      ],
      "source": [
        "# Polimorfisme: Banyak class, method yang sama\n",
        "\n",
        "class Kucing:\n",
        "    def speak(self):\n",
        "        print(\"Meow\")\n",
        "\n",
        "class Anjing:\n",
        "    def speak(self):\n",
        "        print(\"Guk Guk\")\n",
        "\n",
        "class Burung:\n",
        "    def speak(self):\n",
        "        print(\"Cuit cuit\")\n",
        "\n",
        "# Fungsi yang menerima berbagai jenis objek\n",
        "def hewan_bersuara(hewan):\n",
        "    hewan.speak()\n",
        "\n",
        "# Objek\n",
        "hewan1 = Kucing()\n",
        "hewan2 = Anjing()\n",
        "hewan3 = Burung()\n",
        "\n",
        "hewan_bersuara(hewan1)\n",
        "hewan_bersuara(hewan2)\n",
        "hewan_bersuara(hewan3)\n",
        "\n",
        "# Tambahan eksperimen: class Tanpa speak\n",
        "class Ikan:\n",
        "    def diam(self):\n",
        "        print(\"...\")\n",
        "\n",
        "# Coba panggil (ini akan error)\n",
        "# hewan_bersuara(Ikan())  # Uncomment ini untuk melihat error karena tidak ada method speak()"
      ]
    }
  ]
}